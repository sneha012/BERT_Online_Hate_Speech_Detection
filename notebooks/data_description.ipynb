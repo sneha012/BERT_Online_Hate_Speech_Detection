{
 "cells": [
  {
   "cell_type": "markdown",
   "id": "f03e7b61-90b7-418a-ac4a-481f41177e71",
   "metadata": {},
   "source": [
    "# Hate-Speech detection data description"
   ]
  },
  {
   "cell_type": "code",
   "execution_count": 1,
   "id": "86c0488a-124e-420d-8e51-67c3c70f71bd",
   "metadata": {},
   "outputs": [],
   "source": [
    "import pandas as pd\n",
    "import datasets"
   ]
  },
  {
   "cell_type": "code",
   "execution_count": 2,
   "id": "6d261194-e373-4ffb-90d7-17d382341986",
   "metadata": {},
   "outputs": [
    {
     "name": "stderr",
     "output_type": "stream",
     "text": [
      "Using custom data configuration ucberkeley-dlab--measuring-hate-speech-f91f636a830ad73c\n",
      "Reusing dataset parquet (C:\\Users\\UTKARSH\\.cache\\huggingface\\datasets\\parquet\\ucberkeley-dlab--measuring-hate-speech-f91f636a830ad73c\\0.0.0\\0b6d5799bb726b24ad7fc7be720c170d8e497f575d02d47537de9a5bac074901)\n"
     ]
    },
    {
     "data": {
      "application/vnd.jupyter.widget-view+json": {
       "model_id": "5da299ea31704fa6b8eb67445b29d06a",
       "version_major": 2,
       "version_minor": 0
      },
      "text/plain": [
       "  0%|          | 0/1 [00:00<?, ?it/s]"
      ]
     },
     "metadata": {},
     "output_type": "display_data"
    }
   ],
   "source": [
    "dataset = datasets.load_dataset('ucberkeley-dlab/measuring-hate-speech', 'binary')   \n",
    "hate_speech_ucb = dataset['train'].to_pandas()"
   ]
  },
  {
   "cell_type": "code",
   "execution_count": 3,
   "id": "23f398a0-04b4-4e68-b359-38c26c3cbcfa",
   "metadata": {},
   "outputs": [],
   "source": [
    "hate_speech_github = pd.read_csv(\"../data/github/hate_speech.csv\", index_col=0)"
   ]
  },
  {
   "cell_type": "markdown",
   "id": "2bec1f26-adf0-47b2-b7fd-1b5da5c405a5",
   "metadata": {},
   "source": [
    "## Dataset description"
   ]
  },
  {
   "cell_type": "markdown",
   "id": "7da7f850-f4aa-4752-8e12-63eb674b1b88",
   "metadata": {},
   "source": [
    "We plan to work on two datasets for this project:\n",
    "1. [t-davidson_hate-speech-and-offensive-language](https://github.com/t-davidson/hate-speech-and-offensive-language/tree/master/data)\n",
    "2. [ucberkeley-dlab_measuring-hate-speech](https://huggingface.co/datasets/ucberkeley-dlab/measuring-hate-speech)\n",
    "\n",
    "These two datasets are readily available.\n",
    "- The first one is available on github. It's in raw for so it needs pre-processing.\n",
    "- The second one is available publicly on huggingface and can be acquired using the `datasets` library. It's slightly processed but still needs more pre-processing."
   ]
  },
  {
   "cell_type": "markdown",
   "id": "794811e6-36a0-4ab2-88c7-1ccca71502f0",
   "metadata": {},
   "source": [
    "Here is a brief description about the two datasets:"
   ]
  },
  {
   "cell_type": "markdown",
   "id": "185ef942-bb09-443b-a19b-0b48cdc103ae",
   "metadata": {},
   "source": [
    "---"
   ]
  },
  {
   "cell_type": "markdown",
   "id": "efdc8f22-c383-4220-aa32-e31a3603c67c",
   "metadata": {
    "tags": []
   },
   "source": [
    "### [t-davidson_hate-speech-and-offensive-language](https://github.com/t-davidson/hate-speech-and-offensive-language/tree/master/data)"
   ]
  },
  {
   "cell_type": "markdown",
   "id": "2ba40ed0-5171-42a5-a4c3-567d6e8885a6",
   "metadata": {},
   "source": [
    "This dataset is available on github and consists of the following columns (as the dataset [README](https://github.com/t-davidson/hate-speech-and-offensive-language/blob/master/data/readme.md) describes):\n",
    "- `tweet`: The tweet text\n",
    "- `count`: number of users who annotated each tweet _(numerical - 5 unique values - 3, 4, 6, 7, 9)_\n",
    "- `hate_speech`: number of users who judged the tweet to be hate speech _(numerical - can have 10 values, between 0 and 9)_\n",
    "- `offensive_language`: number of users who judged the tweet to be offensive _(numerical - can have 10 values, between 0 and 9)_\n",
    "- `neither`: number of users who judged the tweet to be neither offensive nor non-offensive _(numerical - can have 10 values, between 0 and 9)_\n",
    "- `class`: class label for majority of users. `0 - hate speech`, `1 - offensive language`  and `2 - neither`"
   ]
  },
  {
   "cell_type": "markdown",
   "id": "a202e1a4-64b2-4b1c-80b0-ff2def292515",
   "metadata": {},
   "source": [
    "__Genre__: It is a multi-class twitter (or social in general) dataset which has raw tweet text and certain other features along with the class of tweet."
   ]
  },
  {
   "cell_type": "markdown",
   "id": "5db1d5fc-a176-4586-9b67-9c8e58952639",
   "metadata": {},
   "source": [
    "__Categories__: A tweet can have exactly one of the three possible classes:  `hate speech`, `offensive language` or `neither`"
   ]
  },
  {
   "cell_type": "markdown",
   "id": "9e2c4a0c-18c5-49a1-9691-a099773ff2d7",
   "metadata": {},
   "source": [
    "__Size__: This corpus has __6 columns__, where one of the columns refers to the class of the tweet and the remaining five, the tweet text and other features. It has __24783 non-null__ values for each column."
   ]
  },
  {
   "cell_type": "markdown",
   "id": "3736ffd5-1fba-4961-b2d1-4666a4daf168",
   "metadata": {},
   "source": [
    "__Language__: The tweet text is in English."
   ]
  },
  {
   "cell_type": "markdown",
   "id": "f7764974-4135-4c14-8a8f-0c90315414dd",
   "metadata": {},
   "source": [
    "__Style__: The style of text is informal, as is usually the case with social media text. It has emojis and emoticons, abbreviations, hashtags and mentions, spelling errors and a lot of swear words."
   ]
  },
  {
   "cell_type": "markdown",
   "id": "baca5142-474d-4af6-9403-6e8b9964cdb2",
   "metadata": {},
   "source": [
    "__Tweet length__: The tweets vary between __5__ and __754__ characters with the mean and median lengths __85__ and __81__ respectively."
   ]
  },
  {
   "cell_type": "markdown",
   "id": "bf64b478-c031-4617-9df5-1e605514b091",
   "metadata": {},
   "source": [
    "__Annotator count__: Each tweet was annotated 3 annotators (or more in case of any potential unreliable judgment of class)"
   ]
  },
  {
   "cell_type": "markdown",
   "id": "f4783a8d-7b34-48e9-a1e1-5341109faebe",
   "metadata": {
    "tags": []
   },
   "source": [
    "#### Stats about the data"
   ]
  },
  {
   "cell_type": "code",
   "execution_count": 4,
   "id": "5452fdc1-1d0d-40c6-a151-55b5811ab171",
   "metadata": {},
   "outputs": [
    {
     "data": {
      "text/html": [
       "<div>\n",
       "<style scoped>\n",
       "    .dataframe tbody tr th:only-of-type {\n",
       "        vertical-align: middle;\n",
       "    }\n",
       "\n",
       "    .dataframe tbody tr th {\n",
       "        vertical-align: top;\n",
       "    }\n",
       "\n",
       "    .dataframe thead th {\n",
       "        text-align: right;\n",
       "    }\n",
       "</style>\n",
       "<table border=\"1\" class=\"dataframe\">\n",
       "  <thead>\n",
       "    <tr style=\"text-align: right;\">\n",
       "      <th></th>\n",
       "      <th>count</th>\n",
       "      <th>hate_speech</th>\n",
       "      <th>offensive_language</th>\n",
       "      <th>neither</th>\n",
       "      <th>class</th>\n",
       "      <th>tweet</th>\n",
       "    </tr>\n",
       "  </thead>\n",
       "  <tbody>\n",
       "    <tr>\n",
       "      <th>0</th>\n",
       "      <td>3</td>\n",
       "      <td>0</td>\n",
       "      <td>0</td>\n",
       "      <td>3</td>\n",
       "      <td>2</td>\n",
       "      <td>!!! RT @mayasolovely: As a woman you shouldn't...</td>\n",
       "    </tr>\n",
       "    <tr>\n",
       "      <th>1</th>\n",
       "      <td>3</td>\n",
       "      <td>0</td>\n",
       "      <td>3</td>\n",
       "      <td>0</td>\n",
       "      <td>1</td>\n",
       "      <td>!!!!! RT @mleew17: boy dats cold...tyga dwn ba...</td>\n",
       "    </tr>\n",
       "    <tr>\n",
       "      <th>2</th>\n",
       "      <td>3</td>\n",
       "      <td>0</td>\n",
       "      <td>3</td>\n",
       "      <td>0</td>\n",
       "      <td>1</td>\n",
       "      <td>!!!!!!! RT @UrKindOfBrand Dawg!!!! RT @80sbaby...</td>\n",
       "    </tr>\n",
       "    <tr>\n",
       "      <th>3</th>\n",
       "      <td>3</td>\n",
       "      <td>0</td>\n",
       "      <td>2</td>\n",
       "      <td>1</td>\n",
       "      <td>1</td>\n",
       "      <td>!!!!!!!!! RT @C_G_Anderson: @viva_based she lo...</td>\n",
       "    </tr>\n",
       "    <tr>\n",
       "      <th>4</th>\n",
       "      <td>6</td>\n",
       "      <td>0</td>\n",
       "      <td>6</td>\n",
       "      <td>0</td>\n",
       "      <td>1</td>\n",
       "      <td>!!!!!!!!!!!!! RT @ShenikaRoberts: The shit you...</td>\n",
       "    </tr>\n",
       "  </tbody>\n",
       "</table>\n",
       "</div>"
      ],
      "text/plain": [
       "   count  hate_speech  offensive_language  neither  class  \\\n",
       "0      3            0                   0        3      2   \n",
       "1      3            0                   3        0      1   \n",
       "2      3            0                   3        0      1   \n",
       "3      3            0                   2        1      1   \n",
       "4      6            0                   6        0      1   \n",
       "\n",
       "                                               tweet  \n",
       "0  !!! RT @mayasolovely: As a woman you shouldn't...  \n",
       "1  !!!!! RT @mleew17: boy dats cold...tyga dwn ba...  \n",
       "2  !!!!!!! RT @UrKindOfBrand Dawg!!!! RT @80sbaby...  \n",
       "3  !!!!!!!!! RT @C_G_Anderson: @viva_based she lo...  \n",
       "4  !!!!!!!!!!!!! RT @ShenikaRoberts: The shit you...  "
      ]
     },
     "execution_count": 4,
     "metadata": {},
     "output_type": "execute_result"
    }
   ],
   "source": [
    "hate_speech_github.head()"
   ]
  },
  {
   "cell_type": "code",
   "execution_count": 5,
   "id": "909ff085-20a4-49dd-920a-9c009b978143",
   "metadata": {},
   "outputs": [
    {
     "name": "stdout",
     "output_type": "stream",
     "text": [
      "<class 'pandas.core.frame.DataFrame'>\n",
      "Int64Index: 24783 entries, 0 to 25296\n",
      "Data columns (total 6 columns):\n",
      " #   Column              Non-Null Count  Dtype \n",
      "---  ------              --------------  ----- \n",
      " 0   count               24783 non-null  int64 \n",
      " 1   hate_speech         24783 non-null  int64 \n",
      " 2   offensive_language  24783 non-null  int64 \n",
      " 3   neither             24783 non-null  int64 \n",
      " 4   class               24783 non-null  int64 \n",
      " 5   tweet               24783 non-null  object\n",
      "dtypes: int64(5), object(1)\n",
      "memory usage: 1.3+ MB\n"
     ]
    }
   ],
   "source": [
    "hate_speech_github.info()"
   ]
  },
  {
   "cell_type": "code",
   "execution_count": 6,
   "id": "ae54ae44-eaff-4271-bcff-6d23098df686",
   "metadata": {},
   "outputs": [
    {
     "name": "stdout",
     "output_type": "stream",
     "text": [
      "For count - 5 unique values:\n",
      "--------------------\n"
     ]
    },
    {
     "data": {
      "text/plain": [
       "3    22807\n",
       "6     1571\n",
       "4      211\n",
       "9      167\n",
       "7       27\n",
       "Name: count, dtype: int64"
      ]
     },
     "metadata": {},
     "output_type": "display_data"
    },
    {
     "name": "stdout",
     "output_type": "stream",
     "text": [
      "--------------------------------------------------\n",
      "For hate_speech - 8 unique values:\n",
      "--------------------\n"
     ]
    },
    {
     "data": {
      "text/plain": [
       "0    19790\n",
       "1     3419\n",
       "2     1251\n",
       "3      287\n",
       "4       21\n",
       "5        7\n",
       "6        5\n",
       "7        3\n",
       "Name: hate_speech, dtype: int64"
      ]
     },
     "metadata": {},
     "output_type": "display_data"
    },
    {
     "name": "stdout",
     "output_type": "stream",
     "text": [
      "--------------------------------------------------\n",
      "For offensive_language - 10 unique values:\n",
      "--------------------\n"
     ]
    },
    {
     "data": {
      "text/plain": [
       "3    13383\n",
       "2     4246\n",
       "0     3475\n",
       "1     2066\n",
       "6      857\n",
       "5      369\n",
       "4      251\n",
       "9       66\n",
       "8       37\n",
       "7       33\n",
       "Name: offensive_language, dtype: int64"
      ]
     },
     "metadata": {},
     "output_type": "display_data"
    },
    {
     "name": "stdout",
     "output_type": "stream",
     "text": [
      "--------------------------------------------------\n",
      "For neither - 10 unique values:\n",
      "--------------------\n"
     ]
    },
    {
     "data": {
      "text/plain": [
       "0    18892\n",
       "3     2790\n",
       "1     1694\n",
       "2     1200\n",
       "6      103\n",
       "5       54\n",
       "4       35\n",
       "9        5\n",
       "8        5\n",
       "7        5\n",
       "Name: neither, dtype: int64"
      ]
     },
     "metadata": {},
     "output_type": "display_data"
    },
    {
     "name": "stdout",
     "output_type": "stream",
     "text": [
      "--------------------------------------------------\n",
      "For class - 3 unique values:\n",
      "--------------------\n"
     ]
    },
    {
     "data": {
      "text/plain": [
       "1    19190\n",
       "2     4163\n",
       "0     1430\n",
       "Name: class, dtype: int64"
      ]
     },
     "metadata": {},
     "output_type": "display_data"
    },
    {
     "name": "stdout",
     "output_type": "stream",
     "text": [
      "--------------------------------------------------\n"
     ]
    }
   ],
   "source": [
    "for col in hate_speech_github.iloc[:, :5]:\n",
    "    values = hate_speech_github[col].value_counts()\n",
    "    print(f\"For {col} - {len(values)} unique values:\\n{'-' * 20}\")\n",
    "    display(values)\n",
    "    print(\"-\" * 50)"
   ]
  },
  {
   "cell_type": "code",
   "execution_count": 7,
   "id": "69b23976-f016-4195-8915-a29bb6d1c2c0",
   "metadata": {},
   "outputs": [
    {
     "data": {
      "text/plain": [
       "5"
      ]
     },
     "execution_count": 7,
     "metadata": {},
     "output_type": "execute_result"
    }
   ],
   "source": [
    "min(hate_speech_github[\"tweet\"].str.len())"
   ]
  },
  {
   "cell_type": "code",
   "execution_count": 8,
   "id": "a9ade91f-9101-4f6f-b665-8418d68d84de",
   "metadata": {},
   "outputs": [
    {
     "data": {
      "text/plain": [
       "754"
      ]
     },
     "execution_count": 8,
     "metadata": {},
     "output_type": "execute_result"
    }
   ],
   "source": [
    "max(hate_speech_github[\"tweet\"].str.len())"
   ]
  },
  {
   "cell_type": "code",
   "execution_count": 9,
   "id": "9602ae8c-6039-4d00-a7a2-1d512b7a2ceb",
   "metadata": {},
   "outputs": [
    {
     "data": {
      "text/plain": [
       "85.43606504458701"
      ]
     },
     "execution_count": 9,
     "metadata": {},
     "output_type": "execute_result"
    }
   ],
   "source": [
    "hate_speech_github[\"tweet\"].str.len().mean()"
   ]
  },
  {
   "cell_type": "code",
   "execution_count": 10,
   "id": "ce0c5065-91e4-4e9d-a47f-eaf23090b439",
   "metadata": {},
   "outputs": [
    {
     "data": {
      "text/plain": [
       "81.0"
      ]
     },
     "execution_count": 10,
     "metadata": {},
     "output_type": "execute_result"
    }
   ],
   "source": [
    "hate_speech_github[\"tweet\"].str.len().median()"
   ]
  },
  {
   "cell_type": "markdown",
   "id": "cc92f53e-c52e-405c-9250-e106cac8a6ba",
   "metadata": {},
   "source": [
    "---"
   ]
  },
  {
   "cell_type": "markdown",
   "id": "308df40c-5008-4b53-b2a8-9aee970b94f6",
   "metadata": {
    "tags": []
   },
   "source": [
    "### [ucberkeley-dlab_measuring-hate-speech](https://huggingface.co/datasets/ucberkeley-dlab/measuring-hate-speech)"
   ]
  },
  {
   "cell_type": "markdown",
   "id": "bd8caf3f-36ae-4056-85c1-cc18dc9d2ebf",
   "metadata": {},
   "source": [
    "This is a public release of the dataset described in [Kennedy et al. (2020)](https://aclanthology.org/2020.acl-main.483.pdf), consisting of 39,565 comments annotated by 7,912 annotators. This dataset comprises of the following columns as described by the authors [here](https://huggingface.co/datasets/ucberkeley-dlab/measuring-hate-speech#key-dataset-columns):\n",
    "- `hate_speech_score` - continuous hate speech measure, where higher means more hateful and lower means less _(numerical - between -8.34 and 6.30)_\n",
    "- `text` - lightly processed text of a social media post\n",
    "- `comment_id` - unique ID for each comment _(categorical - 39565 unique values)_\n",
    "- `annotator_id` - unique ID for each annotator _(categorical - 7912 unique values)_\n",
    "- `platform` - id of the platform the text was taken from _(categorical - 4 possible values)_\n",
    "- `sentiment` - sentiment score of the text _(ordinal - 5 values, from 0 to 4)_\n",
    "- `respect` - respect score of the text _(ordinal - 5 values, from 0 to 4)_\n",
    "- `insult` - insult score of the text _(ordinal - 5 values, from 0 to 4)_\n",
    "- `humiliate` - humiliation score of the text _(ordinal - 5 values, from 0 to 4)_\n",
    "- `status` - __status__ score of the text _(ordinal - 5 values, from 0 to 4)_ --??\n",
    "- `dehumanize` - dehumanization score of the text _(ordinal - 5 values, from 0 to 4)_\n",
    "- `violence` - violence score of the text _(ordinal - 5 values, from 0 to 4)_\n",
    "- `genocide` - genocide score of the text _(ordinal - 5 values, from 0 to 4)_\n",
    "- `attack_defend` - attack/defend score of the text _(ordinal - 5 values, from 0 to 4)_\n",
    "- `hatespeech` - __hate speech__ score of the text _(ordinal - 3 values, from 0 to 2)_ --??\n",
    "- `annotator_severity` - annotator's estimated survey interpretation bias _(numerical - between -1.82 and 1.36)_"
   ]
  },
  {
   "cell_type": "markdown",
   "id": "f6f9b021-e76b-455e-a038-c9e5e6240a9e",
   "metadata": {},
   "source": [
    "__Genre__: It is a social-media-posts dataset which has text from the social media posts, with each post annotated with several constituent labels (such as sentiment, (dis)respect, insult, etc.) and a floating-point hate-speech score."
   ]
  },
  {
   "cell_type": "markdown",
   "id": "357dc49e-50e4-4581-b23e-94a1aab8baaa",
   "metadata": {},
   "source": [
    "__Size__:\n",
    "\n",
    "- This corpus has __131 columns__ and __135,556 non-null__ values for each column.\n",
    "- Out of these 131 columns:\n",
    "    - 2 columns refer to ids of comments and annotators\n",
    "    - 10 columns refer to constituent labels (such as sentiment, respect, insult, etc.) of the tweets\n",
    "    - 1 column refer to lightly processed text from the post\n",
    "    - 1 column refer to source platform \n",
    "    - 1 column refer to hate speech score\n",
    "    - Remaining columns refer to 8 target identity groups (race/ethnicity, religion, national origin/citizenship, gender, sexual orientation, age, disability, political ideology) and 42 identity subgroups."
   ]
  },
  {
   "cell_type": "markdown",
   "id": "878695c7-c497-479c-9d3e-7d07f2ae3a86",
   "metadata": {},
   "source": [
    "__Language__: The tweet text is in English."
   ]
  },
  {
   "cell_type": "markdown",
   "id": "834719cd-5876-4938-b65b-ceb94d929c13",
   "metadata": {},
   "source": [
    "__Style__: The style of text is informal, as is usually the case with social media text. It has emojis and emoticons, abbreviations, hashtags and mentions, spelling errors and a lot of swear words."
   ]
  },
  {
   "cell_type": "markdown",
   "id": "7c8ce287-a21c-429c-8660-9bc016be847c",
   "metadata": {},
   "source": [
    "__Tweet length__: The tweets vary between __7__ and __603__ characters with the mean and median lengths __151__ and __115__ respectively."
   ]
  },
  {
   "cell_type": "markdown",
   "id": "6a45cbe0-6eaa-4afb-bfe4-da28b1aa93ab",
   "metadata": {
    "tags": []
   },
   "source": [
    "#### Stats about the data"
   ]
  },
  {
   "cell_type": "code",
   "execution_count": 11,
   "id": "3ddd73b5-4eb9-4a92-a2cf-1b258c14aedd",
   "metadata": {
    "tags": []
   },
   "outputs": [
    {
     "name": "stdout",
     "output_type": "stream",
     "text": [
      "<class 'pandas.core.frame.DataFrame'>\n",
      "RangeIndex: 135556 entries, 0 to 135555\n",
      "Data columns (total 22 columns):\n",
      " #   Column              Non-Null Count   Dtype  \n",
      "---  ------              --------------   -----  \n",
      " 0   comment_id          135556 non-null  int32  \n",
      " 1   annotator_id        135556 non-null  int32  \n",
      " 2   platform            135556 non-null  int8   \n",
      " 3   sentiment           135556 non-null  float64\n",
      " 4   respect             135556 non-null  float64\n",
      " 5   insult              135556 non-null  float64\n",
      " 6   humiliate           135556 non-null  float64\n",
      " 7   status              135556 non-null  float64\n",
      " 8   dehumanize          135556 non-null  float64\n",
      " 9   violence            135556 non-null  float64\n",
      " 10  genocide            135556 non-null  float64\n",
      " 11  attack_defend       135556 non-null  float64\n",
      " 12  hatespeech          135556 non-null  float64\n",
      " 13  hate_speech_score   135556 non-null  float64\n",
      " 14  text                135556 non-null  object \n",
      " 15  infitms             135556 non-null  float64\n",
      " 16  outfitms            135556 non-null  float64\n",
      " 17  annotator_severity  135556 non-null  float64\n",
      " 18  std_err             135556 non-null  float64\n",
      " 19  annotator_infitms   135556 non-null  float64\n",
      " 20  annotator_outfitms  135556 non-null  float64\n",
      " 21  hypothesis          135556 non-null  float64\n",
      "dtypes: float64(18), int32(2), int8(1), object(1)\n",
      "memory usage: 20.8+ MB\n"
     ]
    }
   ],
   "source": [
    "hate_speech_ucb.iloc[:, :22].info()"
   ]
  },
  {
   "cell_type": "code",
   "execution_count": 12,
   "id": "bd7ef45b-ef24-4c9c-ae1e-9f8a4c2937c6",
   "metadata": {
    "tags": []
   },
   "outputs": [
    {
     "data": {
      "text/html": [
       "<div>\n",
       "<style scoped>\n",
       "    .dataframe tbody tr th:only-of-type {\n",
       "        vertical-align: middle;\n",
       "    }\n",
       "\n",
       "    .dataframe tbody tr th {\n",
       "        vertical-align: top;\n",
       "    }\n",
       "\n",
       "    .dataframe thead th {\n",
       "        text-align: right;\n",
       "    }\n",
       "</style>\n",
       "<table border=\"1\" class=\"dataframe\">\n",
       "  <thead>\n",
       "    <tr style=\"text-align: right;\">\n",
       "      <th></th>\n",
       "      <th>comment_id</th>\n",
       "      <th>annotator_id</th>\n",
       "      <th>platform</th>\n",
       "      <th>sentiment</th>\n",
       "      <th>respect</th>\n",
       "      <th>insult</th>\n",
       "      <th>humiliate</th>\n",
       "      <th>status</th>\n",
       "      <th>dehumanize</th>\n",
       "      <th>violence</th>\n",
       "      <th>...</th>\n",
       "      <th>annotator_religion_hindu</th>\n",
       "      <th>annotator_religion_jewish</th>\n",
       "      <th>annotator_religion_mormon</th>\n",
       "      <th>annotator_religion_muslim</th>\n",
       "      <th>annotator_religion_nothing</th>\n",
       "      <th>annotator_religion_other</th>\n",
       "      <th>annotator_sexuality_bisexual</th>\n",
       "      <th>annotator_sexuality_gay</th>\n",
       "      <th>annotator_sexuality_straight</th>\n",
       "      <th>annotator_sexuality_other</th>\n",
       "    </tr>\n",
       "  </thead>\n",
       "  <tbody>\n",
       "    <tr>\n",
       "      <th>0</th>\n",
       "      <td>47777</td>\n",
       "      <td>10873</td>\n",
       "      <td>3</td>\n",
       "      <td>0.0</td>\n",
       "      <td>0.0</td>\n",
       "      <td>0.0</td>\n",
       "      <td>0.0</td>\n",
       "      <td>2.0</td>\n",
       "      <td>0.0</td>\n",
       "      <td>0.0</td>\n",
       "      <td>...</td>\n",
       "      <td>False</td>\n",
       "      <td>False</td>\n",
       "      <td>False</td>\n",
       "      <td>False</td>\n",
       "      <td>False</td>\n",
       "      <td>False</td>\n",
       "      <td>False</td>\n",
       "      <td>False</td>\n",
       "      <td>True</td>\n",
       "      <td>False</td>\n",
       "    </tr>\n",
       "    <tr>\n",
       "      <th>1</th>\n",
       "      <td>39773</td>\n",
       "      <td>2790</td>\n",
       "      <td>2</td>\n",
       "      <td>0.0</td>\n",
       "      <td>0.0</td>\n",
       "      <td>0.0</td>\n",
       "      <td>0.0</td>\n",
       "      <td>2.0</td>\n",
       "      <td>0.0</td>\n",
       "      <td>0.0</td>\n",
       "      <td>...</td>\n",
       "      <td>False</td>\n",
       "      <td>False</td>\n",
       "      <td>False</td>\n",
       "      <td>False</td>\n",
       "      <td>False</td>\n",
       "      <td>False</td>\n",
       "      <td>False</td>\n",
       "      <td>False</td>\n",
       "      <td>True</td>\n",
       "      <td>False</td>\n",
       "    </tr>\n",
       "    <tr>\n",
       "      <th>2</th>\n",
       "      <td>47101</td>\n",
       "      <td>3379</td>\n",
       "      <td>3</td>\n",
       "      <td>4.0</td>\n",
       "      <td>4.0</td>\n",
       "      <td>4.0</td>\n",
       "      <td>4.0</td>\n",
       "      <td>4.0</td>\n",
       "      <td>4.0</td>\n",
       "      <td>0.0</td>\n",
       "      <td>...</td>\n",
       "      <td>False</td>\n",
       "      <td>False</td>\n",
       "      <td>False</td>\n",
       "      <td>False</td>\n",
       "      <td>True</td>\n",
       "      <td>False</td>\n",
       "      <td>False</td>\n",
       "      <td>False</td>\n",
       "      <td>True</td>\n",
       "      <td>False</td>\n",
       "    </tr>\n",
       "    <tr>\n",
       "      <th>3</th>\n",
       "      <td>43625</td>\n",
       "      <td>7365</td>\n",
       "      <td>3</td>\n",
       "      <td>2.0</td>\n",
       "      <td>3.0</td>\n",
       "      <td>2.0</td>\n",
       "      <td>1.0</td>\n",
       "      <td>2.0</td>\n",
       "      <td>0.0</td>\n",
       "      <td>0.0</td>\n",
       "      <td>...</td>\n",
       "      <td>False</td>\n",
       "      <td>False</td>\n",
       "      <td>False</td>\n",
       "      <td>False</td>\n",
       "      <td>False</td>\n",
       "      <td>False</td>\n",
       "      <td>False</td>\n",
       "      <td>False</td>\n",
       "      <td>True</td>\n",
       "      <td>False</td>\n",
       "    </tr>\n",
       "    <tr>\n",
       "      <th>4</th>\n",
       "      <td>12538</td>\n",
       "      <td>488</td>\n",
       "      <td>0</td>\n",
       "      <td>4.0</td>\n",
       "      <td>4.0</td>\n",
       "      <td>4.0</td>\n",
       "      <td>4.0</td>\n",
       "      <td>4.0</td>\n",
       "      <td>4.0</td>\n",
       "      <td>4.0</td>\n",
       "      <td>...</td>\n",
       "      <td>False</td>\n",
       "      <td>False</td>\n",
       "      <td>False</td>\n",
       "      <td>False</td>\n",
       "      <td>False</td>\n",
       "      <td>False</td>\n",
       "      <td>False</td>\n",
       "      <td>False</td>\n",
       "      <td>True</td>\n",
       "      <td>False</td>\n",
       "    </tr>\n",
       "  </tbody>\n",
       "</table>\n",
       "<p>5 rows × 131 columns</p>\n",
       "</div>"
      ],
      "text/plain": [
       "   comment_id  annotator_id  platform  sentiment  respect  insult  humiliate  \\\n",
       "0       47777         10873         3        0.0      0.0     0.0        0.0   \n",
       "1       39773          2790         2        0.0      0.0     0.0        0.0   \n",
       "2       47101          3379         3        4.0      4.0     4.0        4.0   \n",
       "3       43625          7365         3        2.0      3.0     2.0        1.0   \n",
       "4       12538           488         0        4.0      4.0     4.0        4.0   \n",
       "\n",
       "   status  dehumanize  violence  ...  annotator_religion_hindu  \\\n",
       "0     2.0         0.0       0.0  ...                     False   \n",
       "1     2.0         0.0       0.0  ...                     False   \n",
       "2     4.0         4.0       0.0  ...                     False   \n",
       "3     2.0         0.0       0.0  ...                     False   \n",
       "4     4.0         4.0       4.0  ...                     False   \n",
       "\n",
       "   annotator_religion_jewish  annotator_religion_mormon  \\\n",
       "0                      False                      False   \n",
       "1                      False                      False   \n",
       "2                      False                      False   \n",
       "3                      False                      False   \n",
       "4                      False                      False   \n",
       "\n",
       "   annotator_religion_muslim annotator_religion_nothing  \\\n",
       "0                      False                      False   \n",
       "1                      False                      False   \n",
       "2                      False                       True   \n",
       "3                      False                      False   \n",
       "4                      False                      False   \n",
       "\n",
       "   annotator_religion_other  annotator_sexuality_bisexual  \\\n",
       "0                     False                         False   \n",
       "1                     False                         False   \n",
       "2                     False                         False   \n",
       "3                     False                         False   \n",
       "4                     False                         False   \n",
       "\n",
       "   annotator_sexuality_gay  annotator_sexuality_straight  \\\n",
       "0                    False                          True   \n",
       "1                    False                          True   \n",
       "2                    False                          True   \n",
       "3                    False                          True   \n",
       "4                    False                          True   \n",
       "\n",
       "   annotator_sexuality_other  \n",
       "0                      False  \n",
       "1                      False  \n",
       "2                      False  \n",
       "3                      False  \n",
       "4                      False  \n",
       "\n",
       "[5 rows x 131 columns]"
      ]
     },
     "execution_count": 12,
     "metadata": {},
     "output_type": "execute_result"
    }
   ],
   "source": [
    "hate_speech_ucb.head()"
   ]
  },
  {
   "cell_type": "code",
   "execution_count": 13,
   "id": "5f95de5a-8305-41fa-bf66-9af750af0307",
   "metadata": {
    "tags": []
   },
   "outputs": [
    {
     "name": "stdout",
     "output_type": "stream",
     "text": [
      "For comment_id - 39565 unique values:\n",
      "--------------------\n"
     ]
    },
    {
     "data": {
      "text/plain": [
       "20011    815\n",
       "20002    801\n",
       "20001    799\n",
       "20007    796\n",
       "20014    793\n",
       "        ... \n",
       "32639      1\n",
       "23062      1\n",
       "45993      1\n",
       "10714      1\n",
       "37304      1\n",
       "Name: comment_id, Length: 39565, dtype: int64"
      ]
     },
     "metadata": {},
     "output_type": "display_data"
    },
    {
     "name": "stdout",
     "output_type": "stream",
     "text": [
      "--------------------------------------------------\n",
      "For annotator_id - 7912 unique values:\n",
      "--------------------\n"
     ]
    },
    {
     "data": {
      "text/plain": [
       "1410    26\n",
       "4997    26\n",
       "3887    26\n",
       "4521    26\n",
       "8565    26\n",
       "        ..\n",
       "8466     6\n",
       "8564     6\n",
       "8003     6\n",
       "7558     6\n",
       "6695     6\n",
       "Name: annotator_id, Length: 7912, dtype: int64"
      ]
     },
     "metadata": {},
     "output_type": "display_data"
    },
    {
     "name": "stdout",
     "output_type": "stream",
     "text": [
      "--------------------------------------------------\n",
      "For platform - 4 unique values:\n",
      "--------------------\n"
     ]
    },
    {
     "data": {
      "text/plain": [
       "1    43227\n",
       "0    37164\n",
       "2    35027\n",
       "3    20138\n",
       "Name: platform, dtype: int64"
      ]
     },
     "metadata": {},
     "output_type": "display_data"
    },
    {
     "name": "stdout",
     "output_type": "stream",
     "text": [
      "--------------------------------------------------\n",
      "For sentiment - 5 unique values:\n",
      "--------------------\n"
     ]
    },
    {
     "data": {
      "text/plain": [
       "4.0    61435\n",
       "3.0    35243\n",
       "2.0    19785\n",
       "0.0     9658\n",
       "1.0     9435\n",
       "Name: sentiment, dtype: int64"
      ]
     },
     "metadata": {},
     "output_type": "display_data"
    },
    {
     "name": "stdout",
     "output_type": "stream",
     "text": [
      "--------------------------------------------------\n",
      "For respect - 5 unique values:\n",
      "--------------------\n"
     ]
    },
    {
     "data": {
      "text/plain": [
       "4.0    58473\n",
       "3.0    30720\n",
       "2.0    23895\n",
       "0.0    12839\n",
       "1.0     9629\n",
       "Name: respect, dtype: int64"
      ]
     },
     "metadata": {},
     "output_type": "display_data"
    },
    {
     "name": "stdout",
     "output_type": "stream",
     "text": [
      "--------------------------------------------------\n",
      "For insult - 5 unique values:\n",
      "--------------------\n"
     ]
    },
    {
     "data": {
      "text/plain": [
       "4.0    44153\n",
       "3.0    39673\n",
       "2.0    18587\n",
       "0.0    18476\n",
       "1.0    14667\n",
       "Name: insult, dtype: int64"
      ]
     },
     "metadata": {},
     "output_type": "display_data"
    },
    {
     "name": "stdout",
     "output_type": "stream",
     "text": [
      "--------------------------------------------------\n",
      "For humiliate - 5 unique values:\n",
      "--------------------\n"
     ]
    },
    {
     "data": {
      "text/plain": [
       "3.0    39382\n",
       "4.0    30278\n",
       "2.0    25035\n",
       "0.0    21306\n",
       "1.0    19555\n",
       "Name: humiliate, dtype: int64"
      ]
     },
     "metadata": {},
     "output_type": "display_data"
    },
    {
     "name": "stdout",
     "output_type": "stream",
     "text": [
      "--------------------------------------------------\n",
      "For status - 5 unique values:\n",
      "--------------------\n"
     ]
    },
    {
     "data": {
      "text/plain": [
       "2.0    61154\n",
       "3.0    36413\n",
       "4.0    32500\n",
       "1.0     4261\n",
       "0.0     1228\n",
       "Name: status, dtype: int64"
      ]
     },
     "metadata": {},
     "output_type": "display_data"
    },
    {
     "name": "stdout",
     "output_type": "stream",
     "text": [
      "--------------------------------------------------\n",
      "For dehumanize - 5 unique values:\n",
      "--------------------\n"
     ]
    },
    {
     "data": {
      "text/plain": [
       "0.0    31855\n",
       "3.0    28653\n",
       "1.0    28434\n",
       "2.0    25292\n",
       "4.0    21322\n",
       "Name: dehumanize, dtype: int64"
      ]
     },
     "metadata": {},
     "output_type": "display_data"
    },
    {
     "name": "stdout",
     "output_type": "stream",
     "text": [
      "--------------------------------------------------\n",
      "For violence - 5 unique values:\n",
      "--------------------\n"
     ]
    },
    {
     "data": {
      "text/plain": [
       "0.0    67922\n",
       "1.0    30727\n",
       "4.0    13404\n",
       "2.0    12241\n",
       "3.0    11262\n",
       "Name: violence, dtype: int64"
      ]
     },
     "metadata": {},
     "output_type": "display_data"
    },
    {
     "name": "stdout",
     "output_type": "stream",
     "text": [
      "--------------------------------------------------\n",
      "For genocide - 5 unique values:\n",
      "--------------------\n"
     ]
    },
    {
     "data": {
      "text/plain": [
       "0.0    90058\n",
       "1.0    22838\n",
       "4.0     9252\n",
       "2.0     8107\n",
       "3.0     5301\n",
       "Name: genocide, dtype: int64"
      ]
     },
     "metadata": {},
     "output_type": "display_data"
    },
    {
     "name": "stdout",
     "output_type": "stream",
     "text": [
      "--------------------------------------------------\n",
      "For attack_defend - 5 unique values:\n",
      "--------------------\n"
     ]
    },
    {
     "data": {
      "text/plain": [
       "3.0    44883\n",
       "2.0    38201\n",
       "4.0    33468\n",
       "1.0    11046\n",
       "0.0     7958\n",
       "Name: attack_defend, dtype: int64"
      ]
     },
     "metadata": {},
     "output_type": "display_data"
    },
    {
     "name": "stdout",
     "output_type": "stream",
     "text": [
      "--------------------------------------------------\n",
      "For hatespeech - 3 unique values:\n",
      "--------------------\n"
     ]
    },
    {
     "data": {
      "text/plain": [
       "0.0    80624\n",
       "2.0    46021\n",
       "1.0     8911\n",
       "Name: hatespeech, dtype: int64"
      ]
     },
     "metadata": {},
     "output_type": "display_data"
    },
    {
     "name": "stdout",
     "output_type": "stream",
     "text": [
      "--------------------------------------------------\n"
     ]
    }
   ],
   "source": [
    "for col in hate_speech_ucb.iloc[:, :13]:\n",
    "    values = hate_speech_ucb[col].value_counts()\n",
    "    print(f\"For {col} - {len(values)} unique values:\\n{'-' * 20}\")\n",
    "    display(values)\n",
    "    print(\"-\" * 50)"
   ]
  },
  {
   "cell_type": "code",
   "execution_count": 14,
   "id": "b5604463-1a92-41da-876b-47e67fcbbf62",
   "metadata": {},
   "outputs": [
    {
     "data": {
      "text/plain": [
       "-8.34"
      ]
     },
     "execution_count": 14,
     "metadata": {},
     "output_type": "execute_result"
    }
   ],
   "source": [
    "min(hate_speech_ucb[\"hate_speech_score\"])"
   ]
  },
  {
   "cell_type": "code",
   "execution_count": 15,
   "id": "d95f2bbb-9c94-4f7a-b810-b41cdbcff46e",
   "metadata": {},
   "outputs": [
    {
     "data": {
      "text/plain": [
       "6.3"
      ]
     },
     "execution_count": 15,
     "metadata": {},
     "output_type": "execute_result"
    }
   ],
   "source": [
    "max(hate_speech_ucb[\"hate_speech_score\"])"
   ]
  },
  {
   "cell_type": "code",
   "execution_count": 16,
   "id": "ca691acb-037b-40ca-a92e-044ed380e847",
   "metadata": {},
   "outputs": [
    {
     "data": {
      "text/plain": [
       "7"
      ]
     },
     "execution_count": 16,
     "metadata": {},
     "output_type": "execute_result"
    }
   ],
   "source": [
    "min(hate_speech_ucb[\"text\"].str.len())"
   ]
  },
  {
   "cell_type": "code",
   "execution_count": 17,
   "id": "0b0590ff-271e-438d-a2c9-f4ff6fe3e757",
   "metadata": {},
   "outputs": [
    {
     "data": {
      "text/plain": [
       "603"
      ]
     },
     "execution_count": 17,
     "metadata": {},
     "output_type": "execute_result"
    }
   ],
   "source": [
    "max(hate_speech_ucb[\"text\"].str.len())"
   ]
  },
  {
   "cell_type": "code",
   "execution_count": 18,
   "id": "db915ae4-634d-46dd-a999-11c59013d6bb",
   "metadata": {},
   "outputs": [
    {
     "data": {
      "text/plain": [
       "151.24074183363334"
      ]
     },
     "execution_count": 18,
     "metadata": {},
     "output_type": "execute_result"
    }
   ],
   "source": [
    "hate_speech_ucb[\"text\"].str.len().mean()"
   ]
  },
  {
   "cell_type": "code",
   "execution_count": 19,
   "id": "fc62810d-acf8-45a7-8823-696883e4475a",
   "metadata": {},
   "outputs": [
    {
     "data": {
      "text/plain": [
       "115.0"
      ]
     },
     "execution_count": 19,
     "metadata": {},
     "output_type": "execute_result"
    }
   ],
   "source": [
    "hate_speech_ucb[\"text\"].str.len().median()"
   ]
  }
 ],
 "metadata": {
  "kernelspec": {
   "display_name": "Python [conda env:571]",
   "language": "python",
   "name": "conda-env-571-py"
  },
  "language_info": {
   "codemirror_mode": {
    "name": "ipython",
    "version": 3
   },
   "file_extension": ".py",
   "mimetype": "text/x-python",
   "name": "python",
   "nbconvert_exporter": "python",
   "pygments_lexer": "ipython3",
   "version": "3.9.7"
  }
 },
 "nbformat": 4,
 "nbformat_minor": 5
}
