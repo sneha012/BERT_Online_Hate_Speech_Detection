{
 "cells": [
  {
   "cell_type": "code",
   "execution_count": 1,
   "metadata": {},
   "outputs": [],
   "source": [
    "import sys\n",
    "sys.path.insert(0, '..')\n",
    "import os\n",
    "import fasttext\n",
    "from sklearn.model_selection import train_test_split\n",
    "from sklearn.metrics import f1_score, classification_report\n",
    "from src.data_collection import get_data"
   ]
  },
  {
   "cell_type": "code",
   "execution_count": 2,
   "metadata": {},
   "outputs": [],
   "source": [
    "DATA_PATH = os.path.join(os.path.pardir, \"data\", \"fasttext\")"
   ]
  },
  {
   "cell_type": "code",
   "execution_count": 3,
   "metadata": {},
   "outputs": [
    {
     "name": "stdout",
     "output_type": "stream",
     "text": [
      "Fetching data...\n"
     ]
    },
    {
     "name": "stderr",
     "output_type": "stream",
     "text": [
      "Using custom data configuration ucberkeley-dlab--measuring-hate-speech-7cb9b0b8e4d0e1dd\n",
      "Reusing dataset parquet (/Users/badr/.cache/huggingface/datasets/parquet/ucberkeley-dlab--measuring-hate-speech-7cb9b0b8e4d0e1dd/0.0.0/0b6d5799bb726b24ad7fc7be720c170d8e497f575d02d47537de9a5bac074901)\n",
      "100%|██████████| 1/1 [00:00<00:00, 105.14it/s]\n"
     ]
    },
    {
     "name": "stdout",
     "output_type": "stream",
     "text": [
      "Processing...\n",
      "Done!\n"
     ]
    }
   ],
   "source": [
    "data = get_data().to_numpy()\n",
    "train_data, test_data = train_test_split(data, train_size=0.80)"
   ]
  },
  {
   "cell_type": "code",
   "execution_count": 4,
   "metadata": {},
   "outputs": [],
   "source": [
    "def save_data_to_fasttext(data, saving_path):\n",
    "    with open(saving_path, \"w\") as f:\n",
    "        for text, category in data:\n",
    "            label = \"__label__no\" if category == 0 else \"__label__yes\"\n",
    "            f.write(label + \" \" + text + \"\\n\")\n",
    "\n",
    "\n",
    "def f1_score_fasttext(model, test_path):\n",
    "    gold = []\n",
    "    system = []\n",
    "\n",
    "    with open(test_path) as f:\n",
    "        for line in f:\n",
    "            split_line = line.split(\" \")\n",
    "            label = split_line[0]\n",
    "            text = \" \".join(split_line[1:]).strip()\n",
    "\n",
    "            gold.append(label)\n",
    "            system.append(model.predict(text)[0][0])\n",
    "\n",
    "    return f1_score(gold, system, pos_label=\"__label__yes\")\n",
    "\n",
    "\n",
    "def classification_report_fasttext(model, test_path):\n",
    "    gold = []\n",
    "    system = []\n",
    "\n",
    "    with open(test_path) as f:\n",
    "        for line in f:\n",
    "            split_line = line.split(\" \")\n",
    "            label = split_line[0]\n",
    "            text = \" \".join(split_line[1:]).strip()\n",
    "\n",
    "            gold.append(label)\n",
    "            system.append(model.predict(text)[0][0])\n",
    "\n",
    "    return classification_report(gold, system)"
   ]
  },
  {
   "cell_type": "code",
   "execution_count": 5,
   "metadata": {},
   "outputs": [],
   "source": [
    "save_data_to_fasttext(train_data, os.path.join(DATA_PATH, \"data.train\"))\n",
    "save_data_to_fasttext(test_data, os.path.join(DATA_PATH, \"data.test\"))"
   ]
  },
  {
   "cell_type": "code",
   "execution_count": 6,
   "metadata": {},
   "outputs": [
    {
     "name": "stderr",
     "output_type": "stream",
     "text": [
      "Read 0M words\n",
      "Number of words:  83227\n",
      "Number of labels: 2\n",
      "Progress: 100.0% words/sec/thread: 2562774 lr:  0.000000 avg.loss:  0.351826 ETA:   0h 0m 0s\n"
     ]
    }
   ],
   "source": [
    "model = fasttext.train_supervised(\n",
    "    input=os.path.join(DATA_PATH, \"data.train\"), \n",
    "    epoch=50, \n",
    "    lr=0.01,\n",
    "    wordNgrams=1,\n",
    "    dim=200,\n",
    "    ws=10\n",
    ")\n"
   ]
  },
  {
   "cell_type": "code",
   "execution_count": 7,
   "metadata": {},
   "outputs": [
    {
     "data": {
      "text/plain": [
       "0.7545810691267535"
      ]
     },
     "execution_count": 7,
     "metadata": {},
     "output_type": "execute_result"
    }
   ],
   "source": [
    "precision = model.test(os.path.join(DATA_PATH, \"data.test\"))[1]\n",
    "precision"
   ]
  },
  {
   "cell_type": "code",
   "execution_count": 8,
   "metadata": {},
   "outputs": [
    {
     "name": "stdout",
     "output_type": "stream",
     "text": [
      "0.5776424532405392\n"
     ]
    }
   ],
   "source": [
    "print(f1_score_fasttext(model, os.path.join(DATA_PATH, \"data.test\")))"
   ]
  },
  {
   "cell_type": "code",
   "execution_count": 9,
   "metadata": {},
   "outputs": [
    {
     "name": "stdout",
     "output_type": "stream",
     "text": [
      "              precision    recall  f1-score   support\n",
      "\n",
      " __label__no       0.78      0.88      0.83      5270\n",
      "__label__yes       0.68      0.50      0.58      2643\n",
      "\n",
      "    accuracy                           0.75      7913\n",
      "   macro avg       0.73      0.69      0.70      7913\n",
      "weighted avg       0.75      0.75      0.74      7913\n",
      "\n"
     ]
    }
   ],
   "source": [
    "print(classification_report_fasttext(model, os.path.join(DATA_PATH, \"data.test\")))"
   ]
  }
 ],
 "metadata": {
  "interpreter": {
   "hash": "d8220b76cfe9388742b41023fa80cc7118ae1a5c202f89a323335059602ac9bc"
  },
  "kernelspec": {
   "display_name": "Python 3",
   "language": "python",
   "name": "python3"
  },
  "language_info": {
   "codemirror_mode": {
    "name": "ipython",
    "version": 3
   },
   "file_extension": ".py",
   "mimetype": "text/x-python",
   "name": "python",
   "nbconvert_exporter": "python",
   "pygments_lexer": "ipython3",
   "version": "3.9.12"
  }
 },
 "nbformat": 4,
 "nbformat_minor": 4
}
