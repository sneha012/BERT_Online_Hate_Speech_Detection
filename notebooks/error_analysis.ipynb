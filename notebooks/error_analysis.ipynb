{
 "cells": [
  {
   "cell_type": "code",
   "execution_count": 1,
   "id": "59a3626f-4cdc-4d78-ad6d-3473540e4542",
   "metadata": {},
   "outputs": [],
   "source": [
    "import sys\n",
    "\n",
    "import numpy as np\n",
    "\n",
    "import torch\n",
    "from torch.utils.data import DataLoader\n",
    "\n",
    "from transformers import DistilBertTokenizer\n",
    "\n",
    "import pickle as pkl\n",
    "\n",
    "sys.path.insert(0, '..')\n",
    "\n",
    "from src.data_collection import get_data\n",
    "from src.models import (\n",
    "    HateDataset, DistilBERTMultiClass, get_distil_hyperparams, predict_distilbert,\n",
    "    predict_bert_tweet_roberta, prepare_dataloaders, get_bertweet_hyperparams,\n",
    "    get_roberta_hyperparams\n",
    ")"
   ]
  },
  {
   "cell_type": "code",
   "execution_count": 2,
   "id": "a8da8fa1-c809-453f-a938-805f4dc1fd7a",
   "metadata": {},
   "outputs": [
    {
     "name": "stdout",
     "output_type": "stream",
     "text": [
      "Fetching data...\n"
     ]
    },
    {
     "name": "stderr",
     "output_type": "stream",
     "text": [
      "Using custom data configuration ucberkeley-dlab--measuring-hate-speech-7cb9b0b8e4d0e1dd\n",
      "Reusing dataset parquet (C:\\Users\\UTKARSH\\.cache\\huggingface\\datasets\\parquet\\ucberkeley-dlab--measuring-hate-speech-7cb9b0b8e4d0e1dd\\0.0.0\\0b6d5799bb726b24ad7fc7be720c170d8e497f575d02d47537de9a5bac074901)\n"
     ]
    },
    {
     "data": {
      "application/vnd.jupyter.widget-view+json": {
       "model_id": "f956a8844c7a412cac9cbef3ee9cf4b3",
       "version_major": 2,
       "version_minor": 0
      },
      "text/plain": [
       "  0%|          | 0/1 [00:00<?, ?it/s]"
      ]
     },
     "metadata": {},
     "output_type": "display_data"
    },
    {
     "name": "stdout",
     "output_type": "stream",
     "text": [
      "Processing...\n",
      "Done!\n"
     ]
    }
   ],
   "source": [
    "hate_speech_ucb = get_data()\n",
    "\n",
    "device = torch.device(\"cuda:0\") if torch.cuda.is_available() else \"cpu\"\n",
    "\n",
    "N_SAMPLES = 1000\n",
    "\n",
    "hate_speech_sample = hate_speech_ucb[:N_SAMPLES]#.sample(N_SAMPLES, random_state=585)\n",
    "N_CLASSES = hate_speech_sample[\"hatespeech\"].nunique()"
   ]
  },
  {
   "cell_type": "code",
   "execution_count": 3,
   "id": "ee8c6898-1956-4d19-a523-31e60cb3ceee",
   "metadata": {
    "tags": []
   },
   "outputs": [],
   "source": [
    "BERTWEET_HYPERPARAMS = get_bertweet_hyperparams()\n",
    "\n",
    "bertweet_model_path = BERTWEET_HYPERPARAMS[\"MODEL_PATH\"]\n",
    "\n",
    "with open(bertweet_model_path, \"rb\") as f:\n",
    "    bertweet_large_model = pkl.load(f)\n",
    "\n",
    "BERTWEET_MODEL = BERTWEET_HYPERPARAMS[\"MODEL_NAME\"]\n",
    "batch_size = BERTWEET_HYPERPARAMS[\"BATCH_SIZE\"]\n",
    "\n",
    "bertweet_roberta_dataloader = prepare_dataloaders(hate_speech_sample, BERTWEET_MODEL, batch_size)\n",
    "bertweet_outputs = predict_bert_tweet_roberta(bertweet_large_model, bertweet_roberta_dataloader, device)\n",
    "bertweet_outputs = np.argmax(bertweet_outputs, axis = 1)"
   ]
  },
  {
   "cell_type": "code",
   "execution_count": 4,
   "id": "3a62da25-fb15-4ebc-975e-6ffc6d2c3533",
   "metadata": {},
   "outputs": [
    {
     "name": "stderr",
     "output_type": "stream",
     "text": [
      "C:\\Users\\UTKARSH\\miniconda3\\envs\\env_deep\\lib\\site-packages\\transformers\\tokenization_utils_base.py:1653: FutureWarning: Calling DistilBertTokenizer.from_pretrained() with the path to a single file or url is deprecated and won't be possible anymore in v5. Use a model identifier or the path to a directory instead.\n",
      "  warnings.warn(\n",
      "Some weights of the model checkpoint at distilbert-base-uncased were not used when initializing DistilBertModel: ['vocab_projector.bias', 'vocab_layer_norm.bias', 'vocab_transform.weight', 'vocab_layer_norm.weight', 'vocab_projector.weight', 'vocab_transform.bias']\n",
      "- This IS expected if you are initializing DistilBertModel from the checkpoint of a model trained on another task or with another architecture (e.g. initializing a BertForSequenceClassification model from a BertForPreTraining model).\n",
      "- This IS NOT expected if you are initializing DistilBertModel from the checkpoint of a model that you expect to be exactly identical (initializing a BertForSequenceClassification model from a BertForSequenceClassification model).\n",
      "0it [00:00, ?it/s]Truncation was not explicitly activated but `max_length` is provided a specific value, please use `truncation=True` to explicitly truncate examples to max length. Defaulting to 'longest_first' truncation strategy. If you encode pairs of sequences (GLUE-style) with the tokenizer you can select this strategy more precisely by providing a specific strategy to `truncation`.\n",
      "C:\\Users\\UTKARSH\\miniconda3\\envs\\env_deep\\lib\\site-packages\\transformers\\tokenization_utils_base.py:2263: FutureWarning: The `pad_to_max_length` argument is deprecated and will be removed in a future version, use `padding=True` or `padding='longest'` to pad to the longest sequence in the batch, or use `padding='max_length'` to pad to a max length. In this case, you can give a specific length with `max_length` (e.g. `max_length=45`) or leave max_length to None to pad to the maximal input size of the model (e.g. 512 for Bert).\n",
      "  warnings.warn(\n",
      "1000it [00:11, 90.37it/s]\n"
     ]
    }
   ],
   "source": [
    "DISTIL_HYPERPARAMS = get_distil_hyperparams()\n",
    "\n",
    "distil_model_path = DISTIL_HYPERPARAMS[\"MODEL_PATH\"]\n",
    "distil_vocab_path = DISTIL_HYPERPARAMS[\"VOCAB_PATH\"]\n",
    "\n",
    "DISTIL_TOKENIZER = DistilBertTokenizer.from_pretrained(distil_vocab_path)\n",
    "DISTIL_MAX_LEN = DISTIL_HYPERPARAMS[\"MAX_LEN\"]\n",
    "\n",
    "distil_params = DISTIL_HYPERPARAMS[\"TEST_PARAMS\"]\n",
    "distil_dataset = HateDataset(hate_speech_sample, DISTIL_TOKENIZER, DISTIL_MAX_LEN)\n",
    "distil_dataloader = DataLoader(distil_dataset, **distil_params)\n",
    "\n",
    "distil_model = DistilBERTMultiClass(n_classes=N_CLASSES)\n",
    "distil_model.load_state_dict(torch.load(distil_model_path))\n",
    "\n",
    "distil_outputs = predict_distilbert(distil_model, distil_dataloader, device)\n",
    "distil_outputs = np.argmax(distil_outputs, axis=1)"
   ]
  },
  {
   "cell_type": "code",
   "execution_count": 5,
   "id": "80344a11-687a-4c8b-93f0-412566ac2a1f",
   "metadata": {},
   "outputs": [],
   "source": [
    "ROBERTA_HYPERPARAMS = get_roberta_hyperparams()\n",
    "\n",
    "roberta_model_path = ROBERTA_HYPERPARAMS[\"MODEL_PATH\"]\n",
    "\n",
    "with open(roberta_model_path, \"rb\") as f:\n",
    "    roberta_model = pkl.load(f)\n",
    "roberta_outputs = predict_bert_tweet_roberta(roberta_model, bertweet_roberta_dataloader, device)\n",
    "roberta_outputs = np.argmax(roberta_outputs, axis=1)"
   ]
  },
  {
   "cell_type": "code",
   "execution_count": 6,
   "id": "d251d2d1-2132-4cd1-bc92-bfa8bcb434cf",
   "metadata": {},
   "outputs": [
    {
     "name": "stderr",
     "output_type": "stream",
     "text": [
      "C:\\Users\\UTKARSH\\AppData\\Local\\Temp\\ipykernel_12424\\2550004462.py:1: SettingWithCopyWarning: \n",
      "A value is trying to be set on a copy of a slice from a DataFrame.\n",
      "Try using .loc[row_indexer,col_indexer] = value instead\n",
      "\n",
      "See the caveats in the documentation: https://pandas.pydata.org/pandas-docs/stable/user_guide/indexing.html#returning-a-view-versus-a-copy\n",
      "  hate_speech_sample[\"RoBERTa_pred\"] = roberta_outputs\n",
      "C:\\Users\\UTKARSH\\AppData\\Local\\Temp\\ipykernel_12424\\2550004462.py:2: SettingWithCopyWarning: \n",
      "A value is trying to be set on a copy of a slice from a DataFrame.\n",
      "Try using .loc[row_indexer,col_indexer] = value instead\n",
      "\n",
      "See the caveats in the documentation: https://pandas.pydata.org/pandas-docs/stable/user_guide/indexing.html#returning-a-view-versus-a-copy\n",
      "  hate_speech_sample[\"DistilBERT_pred\"] = distil_outputs\n",
      "C:\\Users\\UTKARSH\\AppData\\Local\\Temp\\ipykernel_12424\\2550004462.py:3: SettingWithCopyWarning: \n",
      "A value is trying to be set on a copy of a slice from a DataFrame.\n",
      "Try using .loc[row_indexer,col_indexer] = value instead\n",
      "\n",
      "See the caveats in the documentation: https://pandas.pydata.org/pandas-docs/stable/user_guide/indexing.html#returning-a-view-versus-a-copy\n",
      "  hate_speech_sample[\"BERTweet_Large_pred\"] = bertweet_outputs\n"
     ]
    }
   ],
   "source": [
    "hate_speech_sample[\"RoBERTa_pred\"] = roberta_outputs\n",
    "hate_speech_sample[\"DistilBERT_pred\"] = distil_outputs\n",
    "hate_speech_sample[\"BERTweet_Large_pred\"] = bertweet_outputs"
   ]
  },
  {
   "cell_type": "markdown",
   "id": "fb8e3d31-ac6b-4153-8818-a700df90723c",
   "metadata": {},
   "source": [
    "### Errors - RoBERTa"
   ]
  },
  {
   "cell_type": "code",
   "execution_count": 7,
   "id": "03d2558e-ace5-4c82-8327-ee1bf287fa29",
   "metadata": {},
   "outputs": [],
   "source": [
    "roberta_errors = hate_speech_sample[\n",
    "    hate_speech_sample[\"hatespeech\"] != hate_speech_sample[\"RoBERTa_pred\"]\n",
    "]"
   ]
  },
  {
   "cell_type": "markdown",
   "id": "fda9ecfc-c301-4023-a58b-c1b062e012b0",
   "metadata": {},
   "source": [
    "### Errors - RoBERTa and DistilBERT combined"
   ]
  },
  {
   "cell_type": "code",
   "execution_count": 8,
   "id": "3b1ccfa1-dfb6-4fe4-b63d-4ae04eafd46c",
   "metadata": {},
   "outputs": [],
   "source": [
    "roberta_distil_errors = roberta_errors[\n",
    "    roberta_errors[\"hatespeech\"] != roberta_errors[\"DistilBERT_pred\"]\n",
    "]"
   ]
  },
  {
   "cell_type": "markdown",
   "id": "1971cd7b-98db-4094-8821-360fe2c2282d",
   "metadata": {},
   "source": [
    "### Errors - RoBERTa, DistilBERT and BERTweet combined"
   ]
  },
  {
   "cell_type": "code",
   "execution_count": 9,
   "id": "7355c0a7-2277-4cca-a5b2-ff9c24306e36",
   "metadata": {},
   "outputs": [],
   "source": [
    "roberta_distil_bertweet_errors = roberta_distil_errors[\n",
    "    roberta_distil_errors[\"hatespeech\"] != roberta_distil_errors[\"BERTweet_Large_pred\"]\n",
    "]"
   ]
  },
  {
   "cell_type": "code",
   "execution_count": 10,
   "id": "49dc676a-9198-4ffc-b9b3-8ecbf049e33f",
   "metadata": {},
   "outputs": [],
   "source": [
    "text_list = roberta_distil_bertweet_errors[\"text\"].tolist()\n",
    "labels_list = roberta_distil_bertweet_errors[\"hatespeech\"].tolist()"
   ]
  },
  {
   "cell_type": "markdown",
   "id": "4777de4e-3976-467f-bbcf-19b6b11bedf3",
   "metadata": {},
   "source": [
    "#### Hate Speech without swear words"
   ]
  },
  {
   "cell_type": "code",
   "execution_count": 11,
   "id": "b8820c46-30ef-4b73-a061-8305c751c659",
   "metadata": {},
   "outputs": [
    {
     "name": "stdout",
     "output_type": "stream",
     "text": [
      "(Hate Speech without swear words)\t \"Bang outside, I nutted on god\" ok 21 go off?\n",
      "------------------------------------------------------------------------------------------------------------------------------------------------------\n",
      "(Hate Speech without swear words)\t \"He means well, but Trump just hasn't been in Washington long enough to understand its inner workings the way we do. When it comes to advancing white power, you can't let the perfect be the enemy of the good.\"\n",
      "------------------------------------------------------------------------------------------------------------------------------------------------------\n",
      "(Hate Speech without swear words)\t \"I had fuck more than you, oh look at me, poor thing, getting a dick inside me! Please let me cut in line!\"\n",
      "------------------------------------------------------------------------------------------------------------------------------------------------------\n",
      "(Hate Speech without swear words)\t \"I hope you get raped and more\" well shit\n",
      "------------------------------------------------------------------------------------------------------------------------------------------------------\n",
      "(Hate Speech without swear words)\t \"If you consider yourself a feminist, but your thoughts on trans women are virtually identical to the raging misogynists and ignorant anti-feminists who make up the incel movement, well, maybe you're not as much of a feminist as you think. \" URL\n",
      "------------------------------------------------------------------------------------------------------------------------------------------------------\n",
      "(Hate Speech without swear words)\t \"If you do all three I might appear next in front of you~\" 💬 to fuck her tits  ❤️ to fuck her pussy  🔁 to fuck her ass  ❤️+🔁 to breed her and break her mind making her your slave #STOLEN URL\n",
      "------------------------------------------------------------------------------------------------------------------------------------------------------\n",
      "(Hate Speech without swear words)\t \"Instead, the US is subjecting children and families to more violence and mistreatment, holding migrants and refugees captive in cages. \"Children and adults are sleeping on top of one another on cold, concrete floors, with no access to medical care.\" #momsagainstthecamps URL\n",
      "------------------------------------------------------------------------------------------------------------------------------------------------------\n",
      "(Hate Speech without swear words)\t \"Iranians have nice and cozy graves to sleep in during the winter, it's strategically vital to make sure Hamas has a hearty Eftar, that will show our enemies.\"\n",
      "------------------------------------------------------------------------------------------------------------------------------------------------------\n",
      "(Hate Speech without swear words)\t \"Maybe your a blue person or a black person\" 💿🌮\n",
      "------------------------------------------------------------------------------------------------------------------------------------------------------\n",
      "(Hate Speech without swear words)\t \"Repentant Boko Haram Fighters Can Now Become President\" - Says Army Gen. Abdulmalik Biu, GOC 7 Division Me : Of Course We Know That Everything Is Possible With You Brainless Idiots! At Least, Jubril Aminu Al-Sudani And Tanko, A Sharia Ape Are Two Latest Examples.  #FreeBiafra URL\n",
      "------------------------------------------------------------------------------------------------------------------------------------------------------\n",
      "(Hate Speech without swear words)\t \"SEND HER BACK\" is ugly. It's ignorant, dangerous, and un-American. It's flat out bigotry. The @GOP should condemn this bigotry immediately. Stop this now. This is nowhere near making America great.\n",
      "------------------------------------------------------------------------------------------------------------------------------------------------------\n",
      "(Hate Speech without swear words)\t \"THE BIBLE SAYS VACCINES ARE BAD!\" 1-stop giving christians a bad rep,if you homophobics,racists and sexists were not enough (don't forget flat earthers,and yes I am a christian who only believes in a creator and not the stories in the Bible) 2-The bible was written millions of years ago. Vaccines were invented in 1700 something by Edward Jenner. Logic. Bam.\n",
      "------------------------------------------------------------------------------------------------------------------------------------------------------\n",
      "(Hate Speech without swear words)\t \"We don't support marriage equality\". Have you seen the SSM survey. It was a resounding yes. The silent majority said yes.\n",
      "------------------------------------------------------------------------------------------------------------------------------------------------------\n",
      "(Hate Speech without swear words)\t \"congrats on the wedding bro, btw I used to fuck the shit out of your wife for years. Bro fist.\"\n",
      "------------------------------------------------------------------------------------------------------------------------------------------------------\n",
      "(Hate Speech without swear words)\t \"frick her right in the pussy\"\n",
      "------------------------------------------------------------------------------------------------------------------------------------------------------\n",
      "(Hate Speech without swear words)\t \"shit yo ass boy! i was beating my meat to your mommas cheeks last night 😤\"\n",
      "------------------------------------------------------------------------------------------------------------------------------------------------------\n",
      "(Hate Speech without swear words)\t #Castrate and #Deport @Illegals who kill.\n",
      "------------------------------------------------------------------------------------------------------------------------------------------------------\n",
      "(Hate Speech without swear words)\t #IndianMuslim Javed Akhtar is a pathetic actor. Pls learn something from your 2nd wife Shabana Azmi 😜. Also Godse shot Gandhi 2 times so who fired the 3 rd bullet ? Did u guys do the post-mortem or once Godse surrendered let the other killer run away 🤫 #SaturdayThoughts URL\n",
      "------------------------------------------------------------------------------------------------------------------------------------------------------\n",
      "(Hate Speech without swear words)\t #LordKabirJi  God Kabir destroys all the sins and bad deeds of his preachers. There is proof in Rigveda Mandal No. 9, Sukta 86 and Mantra No. 26 that \"Complete God destroys and clears away all the sins and problems of his followers and preachers\".  URL\n",
      "------------------------------------------------------------------------------------------------------------------------------------------------------\n",
      "(Hate Speech without swear words)\t #ModiKillingKashmiris  This picture shows the love of kashmiri youth for Pakistan... URL\n",
      "------------------------------------------------------------------------------------------------------------------------------------------------------\n",
      "(Hate Speech without swear words)\t #TuckFrump Mike Pence blasted for appearing with anti-LGBTQ extremists three times in five days URL @realTuckFrumper @RawStory\n",
      "------------------------------------------------------------------------------------------------------------------------------------------------------\n",
      "(Hate Speech without swear words)\t #forcing all its children to be wrapped in block Child abuse\n",
      "------------------------------------------------------------------------------------------------------------------------------------------------------\n",
      "(Hate Speech without swear words)\t & being the baby made it no better. URL\n",
      "------------------------------------------------------------------------------------------------------------------------------------------------------\n",
      "(Hate Speech without swear words)\t *Counter Semite Same as a counter terrorist isn't an anti terrorist\n",
      "------------------------------------------------------------------------------------------------------------------------------------------------------\n",
      "(Hate Speech without swear words)\t *Dies in a game* No one: James: This game is so homophobic\n",
      "------------------------------------------------------------------------------------------------------------------------------------------------------\n",
      "(Hate Speech without swear words)\t *Satan saved Christmas by getting a headshot on God who wanted to shoot us with sexual desires.\n",
      "------------------------------------------------------------------------------------------------------------------------------------------------------\n"
     ]
    }
   ],
   "source": [
    "for text, label in zip(text_list, labels_list):\n",
    "    if label == 1:\n",
    "        print(\"(Hate Speech without swear words)\\t\", text)\n",
    "        print(\"-\" * 150)"
   ]
  },
  {
   "cell_type": "markdown",
   "id": "48037d6f-de37-4646-9c96-edd45bf2b576",
   "metadata": {},
   "source": [
    "#### Non Hate Speech with swear words"
   ]
  },
  {
   "cell_type": "code",
   "execution_count": 12,
   "id": "03c31755-0447-45e4-96da-9083d7a50d35",
   "metadata": {},
   "outputs": [
    {
     "name": "stdout",
     "output_type": "stream",
     "text": [
      "(Non Hate Speech with swear words)\t \"Eating pussy - God thats so gay\" Every retard ever.\n",
      "------------------------------------------------------------------------------------------------------------------------------------------------------\n",
      "(Non Hate Speech with swear words)\t \"Fuck off\" yeah man, fuck those white children being butchered. Yes, they're there from colonialism- aren't you smart? But they still don't deserve that. Grow the fuck up and stop being a race-hating cuck.\n",
      "------------------------------------------------------------------------------------------------------------------------------------------------------\n",
      "(Non Hate Speech with swear words)\t \"Mom, what's a cuck?\" I can't believe you sheep followed this pussy fart over the cliff. All of you spineless cucks enjoy walking your wife's boyfriend's dog.\n",
      "------------------------------------------------------------------------------------------------------------------------------------------------------\n",
      "(Non Hate Speech with swear words)\t \"Niggas ain shit \" Ight bitch who date white men 🙃\n",
      "------------------------------------------------------------------------------------------------------------------------------------------------------\n",
      "(Non Hate Speech with swear words)\t \"They tried to scour my genes from the planet. I got my revenge in the end\" Suck on that Hitler ya loony fuck\n",
      "------------------------------------------------------------------------------------------------------------------------------------------------------\n",
      "(Non Hate Speech with swear words)\t \"You'd die for her.\" There is the answer, you are a simp, and simps get fucked. No bitch is worth during for, start from here.\n",
      "------------------------------------------------------------------------------------------------------------------------------------------------------\n",
      "(Non Hate Speech with swear words)\t \"You're an annoying fag so you should do great,\" said Knuckles.\n",
      "------------------------------------------------------------------------------------------------------------------------------------------------------\n",
      "(Non Hate Speech with swear words)\t \"hot girls\" just fuck off you fucking troglodyte\n",
      "------------------------------------------------------------------------------------------------------------------------------------------------------\n",
      "(Non Hate Speech with swear words)\t \"ill slap the shit out that bitch like an enema\" URL\n",
      "------------------------------------------------------------------------------------------------------------------------------------------------------\n",
      "(Non Hate Speech with swear words)\t \"lol everyone get a look at this faggot\"\n",
      "------------------------------------------------------------------------------------------------------------------------------------------------------\n",
      "(Non Hate Speech with swear words)\t \"look what that poor kid in africa could do! You kids should be smart like him, you filthy spoiled brats.\"\n",
      "------------------------------------------------------------------------------------------------------------------------------------------------------\n",
      "(Non Hate Speech with swear words)\t #IStandWithTrump fuck trump hoes mad\n",
      "------------------------------------------------------------------------------------------------------------------------------------------------------\n"
     ]
    }
   ],
   "source": [
    "for text, label in zip(text_list, labels_list):\n",
    "    if label == 0:\n",
    "        print(\"(Non Hate Speech with swear words)\\t\", text)\n",
    "        print(\"-\" * 150)"
   ]
  },
  {
   "cell_type": "markdown",
   "id": "2fb4eea6-2147-4dd9-adc2-7af7a47089fb",
   "metadata": {},
   "source": [
    "### Error Analysis"
   ]
  },
  {
   "cell_type": "markdown",
   "id": "1f5db2a4-b8d1-42f2-979d-edc40bd63d66",
   "metadata": {},
   "source": [
    "We see a few sentences which clearly show that being hate-speech does not necessarily depend on whether the sentence contains swear words or not.\n",
    "\n",
    "Here are a few examples that __do not have__ swear words but are still __Hate speech__:\n",
    "\n",
    "- \"He means well, but Trump just hasn't been in Washington long enough to understand its inner workings the way we do. When it comes to advancing white power, you can't let the perfect be the enemy of the good.\"\n",
    "- \"If you consider yourself a feminist, but your thoughts on trans women are virtually identical to the raging misogynists and ignorant anti-feminists who make up the incel movement, well, maybe you're not as much of a feminist as you think. \" URL\n",
    "- \"Iranians have nice and cozy graves to sleep in during the winter, it's strategically vital to make sure Hamas has a hearty Eftar, that will show our enemies.\"\n",
    "\n",
    "---\n",
    "\n",
    "Now, here we have a few examples which __do have__ swear words but are still __Non-hate speech__:\n",
    "\n",
    "- \"Fuck off\" yeah man, fuck those white children being butchered. Yes, they're there from colonialism- aren't you smart? But they still don't deserve that. Grow the fuck up and stop being a race-hating cuck.\n",
    "- \"lol everyone get a look at this faggot\"\n",
    "- \"Mom, what's a cuck?\" I can't believe you sheep followed this pussy fart over the cliff. All of you spineless cucks enjoy walking your wife's boyfriend's dog.\n",
    "\n",
    "---\n",
    "\n",
    "These are the sentences where our models did not perform well. As we can see, these sentences are difficult to identify, so for future improvements, we need to consider this to train better models capable of identifying hate speech, even from texts that do not look that bad but can still offend someone."
   ]
  }
 ],
 "metadata": {
  "kernelspec": {
   "display_name": "Python [conda env:env_deep]",
   "language": "python",
   "name": "conda-env-env_deep-py"
  },
  "language_info": {
   "codemirror_mode": {
    "name": "ipython",
    "version": 3
   },
   "file_extension": ".py",
   "mimetype": "text/x-python",
   "name": "python",
   "nbconvert_exporter": "python",
   "pygments_lexer": "ipython3",
   "version": "3.10.4"
  }
 },
 "nbformat": 4,
 "nbformat_minor": 5
}
